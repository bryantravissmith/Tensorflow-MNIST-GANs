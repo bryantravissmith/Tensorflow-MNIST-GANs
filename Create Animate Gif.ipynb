{
 "cells": [
  {
   "cell_type": "code",
   "execution_count": 21,
   "metadata": {},
   "outputs": [],
   "source": [
    "import glob\n",
    "import imageio\n",
    "from scipy.misc import imresize\n",
    "files = sorted(glob.glob(\"images/*.png\"))\n",
    "with imageio.get_writer('images/generator.gif', mode='I',duration=0.05) as writer:\n",
    "    for filename in files:\n",
    "        image = imageio.imread(filename)\n",
    "        image = imresize(image,(28*10,28*10))\n",
    "        writer.append_data(image)"
   ]
  }
 ],
 "metadata": {
  "kernelspec": {
   "display_name": "Python 2",
   "language": "python",
   "name": "python2"
  },
  "language_info": {
   "codemirror_mode": {
    "name": "ipython",
    "version": 2
   },
   "file_extension": ".py",
   "mimetype": "text/x-python",
   "name": "python",
   "nbconvert_exporter": "python",
   "pygments_lexer": "ipython2",
   "version": "2.7.12"
  }
 },
 "nbformat": 4,
 "nbformat_minor": 2
}
